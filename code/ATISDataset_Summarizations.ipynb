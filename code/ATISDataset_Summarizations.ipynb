{
 "cells": [
  {
   "cell_type": "code",
   "execution_count": 2,
   "metadata": {
    "collapsed": false
   },
   "outputs": [
    {
     "data": {
      "text/plain": [
       "'\\n\\nfor arrayindex in range(0,len(test_set[0][0])):\\n    try:\\n        print dicts[\\'words2idx\\'].keys()[dicts[\\'words2idx\\'].values().index(test_set[0][0][arrayindex])] ,\\n    except ValueError:\\n        print \"-\",\\nprint \" \"\\n\\nfor arrayindex in range(0,len(test_set[0][0])):\\n    try:\\n        print dicts[\\'tables2idx\\'].keys()[dicts[\\'tables2idx\\'].values().index(test_set[1][0][arrayindex])] ,\\n    except ValueError:\\n        print \"-\"\\n\\nprint \" \"\\n\\nfor arrayindex in range(0,len(test_set[2][0])):\\n    try:\\n        print dicts[\\'labels2idx\\'].keys()[dicts[\\'labels2idx\\'].values().index(test_set[2][0][arrayindex])] ,\\n    except ValueError:\\n        print \"-\",\\n'"
      ]
     },
     "execution_count": 2,
     "metadata": {},
     "output_type": "execute_result"
    }
   ],
   "source": [
    "import os\n",
    "import six.moves.cPickle as pickle\n",
    "import gzip\n",
    "import numpy as np\n",
    "\n",
    "PREFIX = os.getenv('ATISDATA',os.path.join(os.path.split(os.path.abspath(os.path.dirname('__file__')))[0],'data'))\n",
    "\n",
    "fold = 0\n",
    "\n",
    "filename = os.path.join(PREFIX, 'atis.fold'+str(fold)+'.pkl.gz')\n",
    "f = gzip.open(filename, 'rb')\n",
    "try:\n",
    "    train_set, valid_set, test_set, dicts = pickle.load(f, encoding='latin1')\n",
    "except:\n",
    "    train_set, valid_set, test_set, dicts = pickle.load(f)\n",
    "    '''\n",
    "for i in train_set:\n",
    "    print i\n",
    "    '''\n",
    "def contextwin(l, win):\n",
    "    '''\n",
    "    win :: int corresponding to the size of the window\n",
    "    given a list of indexes composing a sentence\n",
    "\n",
    "    l :: array containing the word indexes\n",
    "\n",
    "    it will return a list of list of indexes corresponding\n",
    "    to context windows surrounding each word in the sentence\n",
    "    '''\n",
    "    assert (win % 2) == 1\n",
    "    assert win >= 1\n",
    "    l = list(l)\n",
    "\n",
    "    lpadded = win // 2 * [-1] + l + win // 2 * [-1]\n",
    "    out = [lpadded[i:(i + win)] for i in range(len(l))]\n",
    "\n",
    "    assert len(out) == len(l)\n",
    "    return out\n",
    "\n",
    "def createQueryDataset(PREFIX, train_set):\n",
    "    try:\n",
    "        filename = os.path.join(PREFIX, 'Query_trainDataSet.csv')\n",
    "        file = open(filename,'w')   # Trying to create a new file or open one\n",
    "        #File Format: String Query, Identified table values, Identified labels {comma separated}\n",
    "        query = ''\n",
    "        table = ''\n",
    "        label = ''\n",
    "        for i in range(len(train_set[0])):\n",
    "            for arrayindex in range(0,len(train_set[0][i])):\n",
    "                try:\n",
    "                    query = query + str(dicts['words2idx'].keys()[dicts['words2idx'].values().index(train_set[0][i][arrayindex])]) + ' '\n",
    "                except ValueError:\n",
    "                    query = query + \"-\",\n",
    "            query = query + \" \"\n",
    "            print query\n",
    "            for arrayindex in range(0,len(train_set[1][i])):\n",
    "                try:\n",
    "                    table = table + str(dicts['tables2idx'].keys()[dicts['tables2idx'].values().index(train_set[1][i][arrayindex])]) + ' '\n",
    "                except ValueError:\n",
    "                    table = table + \"-\",\n",
    "            table = table + \" \"\n",
    "            print table\n",
    "            for arrayindex in range(0,len(train_set[2][i])):\n",
    "                try:\n",
    "                    label = label + str(dicts['labels2idx'].keys()[dicts['labels2idx'].values().index(train_set[2][i][arrayindex])]) + ' '\n",
    "                except ValueError:\n",
    "                    label = label + \"-\",\n",
    "            label = label + \" \"\n",
    "            print label\n",
    "            \n",
    "            file.write(query+','+table+','+label)\n",
    "            file.write('\\n')\n",
    "            query = ''\n",
    "            table = ''\n",
    "            label = ''\n",
    "        file.close()   \n",
    "    except:\n",
    "        print('Issue in Creating string dataset! Please debug createQueryDataset() function! Or is it you system issue??')\n",
    "        #sys.exit(0) # quit Python\n",
    "\n",
    "#createQueryDataset(PREFIX, train_set)    \n",
    "'''\n",
    "\n",
    "for arrayindex in range(0,len(test_set[0][0])):\n",
    "    try:\n",
    "        print dicts['words2idx'].keys()[dicts['words2idx'].values().index(test_set[0][0][arrayindex])] ,\n",
    "    except ValueError:\n",
    "        print \"-\",\n",
    "print \" \"\n",
    "\n",
    "for arrayindex in range(0,len(test_set[0][0])):\n",
    "    try:\n",
    "        print dicts['tables2idx'].keys()[dicts['tables2idx'].values().index(test_set[1][0][arrayindex])] ,\n",
    "    except ValueError:\n",
    "        print \"-\"\n",
    "\n",
    "print \" \"\n",
    "\n",
    "for arrayindex in range(0,len(test_set[2][0])):\n",
    "    try:\n",
    "        print dicts['labels2idx'].keys()[dicts['labels2idx'].values().index(test_set[2][0][arrayindex])] ,\n",
    "    except ValueError:\n",
    "        print \"-\",\n",
    "'''"
   ]
  },
  {
   "cell_type": "code",
   "execution_count": 17,
   "metadata": {
    "collapsed": false
   },
   "outputs": [
    {
     "name": "stdout",
     "output_type": "stream",
     "text": [
      "572\n",
      "127\n",
      "{'labels2idx': {'B-compartment': 19, 'B-stoploc.state_code': 72, 'B-depart_date.today_relative': 29, 'B-arrive_date.date_relative': 5, 'B-depart_date.date_relative': 25, 'I-restriction_code': 113, 'B-return_date.month_name': 62, 'I-time': 120, 'B-depart_date.day_name': 26, 'I-arrive_time.end_time': 86, 'B-fromloc.airport_code': 46, 'B-cost_relative': 21, 'B-connect': 20, 'B-return_time.period_mod': 64, 'B-arrive_time.period_mod': 11, 'B-flight_number': 43, 'B-depart_time.time_relative': 36, 'I-toloc.city_name': 123, 'B-arrive_time.period_of_day': 12, 'B-depart_time.period_of_day': 33, 'I-return_date.date_relative': 114, 'I-depart_time.start_time': 98, 'B-fare_amount': 38, 'I-depart_time.time_relative': 100, 'B-city_name': 17, 'B-depart_date.day_number': 27, 'I-arrive_time.period_of_day': 87, 'I-depart_date.today_relative': 95, 'I-airport_name': 84, 'I-arrive_date.day_number': 85, 'B-toloc.state_code': 80, 'B-arrive_date.month_name': 8, 'B-stoploc.airport_code': 69, 'B-arrive_date.today_relative': 9, 'B-airport_code': 3, 'B-arrive_time.start_time': 13, 'B-period_of_day': 57, 'B-arrive_time.time': 14, 'I-flight_stop': 106, 'B-toloc.state_name': 81, 'B-booking_class': 16, 'I-meal_code': 111, 'B-arrive_time.end_time': 10, 'B-meal': 51, 'B-arrive_time.time_relative': 15, 'B-return_date.day_number': 61, 'I-city_name': 91, 'B-day_name': 22, 'B-or': 56, 'I-arrive_time.time': 89, 'B-economy': 37, 'B-fromloc.airport_name': 47, 'B-return_date.day_name': 60, 'O': 126, 'B-class_type': 18, 'B-meal_code': 52, 'B-depart_time.time': 35, 'B-return_date.today_relative': 63, 'B-round_trip': 66, 'B-restriction_code': 58, 'B-fare_basis_code': 39, 'I-stoploc.city_name': 119, 'I-fare_basis_code': 103, 'B-flight': 40, 'B-airline_name': 2, 'B-time_relative': 74, 'B-airline_code': 1, 'B-fromloc.state_name': 50, 'B-flight_stop': 44, 'B-day_number': 23, 'B-flight_mod': 42, 'I-meal_description': 112, 'B-depart_time.start_time': 34, 'B-today_relative': 75, 'I-arrive_time.time_relative': 90, 'B-arrive_date.day_number': 7, 'I-flight_time': 107, 'B-arrive_date.day_name': 6, 'B-depart_time.period_mod': 32, 'B-mod': 54, 'B-depart_date.month_name': 28, 'B-flight_days': 41, 'I-cost_relative': 93, 'B-stoploc.airport_name': 70, 'B-flight_time': 45, 'I-today_relative': 121, 'B-fromloc.city_name': 48, 'B-transport_type': 82, 'B-return_time.period_of_day': 65, 'B-state_code': 67, 'B-toloc.country_name': 79, 'B-return_date.date_relative': 59, 'I-depart_date.day_number': 94, 'I-transport_type': 125, 'I-fromloc.city_name': 109, 'B-depart_date.year': 30, 'I-return_date.day_number': 115, 'I-flight_mod': 104, 'B-toloc.city_name': 78, 'I-fromloc.state_name': 110, 'I-arrive_time.start_time': 88, 'B-time': 73, 'B-airport_name': 4, 'B-stoploc.city_name': 71, 'I-toloc.airport_name': 122, 'B-meal_description': 53, 'I-class_type': 92, 'B-toloc.airport_code': 76, 'I-depart_time.period_of_day': 97, 'I-toloc.state_name': 124, 'B-days_code': 24, 'B-toloc.airport_name': 77, 'I-depart_time.time': 99, 'I-round_trip': 117, 'I-state_name': 118, 'I-fare_amount': 102, 'I-fromloc.airport_name': 108, 'I-flight_number': 105, 'I-airline_name': 83, 'B-state_name': 68, 'I-economy': 101, 'B-depart_time.end_time': 31, 'B-aircraft_code': 0, 'I-return_date.today_relative': 116, 'B-month_name': 55, 'B-fromloc.state_code': 49, 'I-depart_time.end_time': 96}, 'tables2idx': {'day_number': 134, 'B-coming': 22, 'B-earlier': 35, 'B-under': 101, 'B-meals': 64, 'B-three': 93, 'cost_relative': 132, 'B-later': 57, 'integer': 136, 'I-restriction_code': 123, 'B-connects': 26, 'B-schedule': 81, 'B-flight_stop': 45, 'I-airline_name': 107, \"B-doesn't\": 34, 'I-time': 126, 'B-late': 56, 'month_name': 139, 'B-cost_relative': 27, 'B-connecting': 24, 'B-more': 66, 'B-stopovers': 89, 'B-flight_time': 46, 'B-connections': 25, 'B-when': 105, 'time_mod': 140, 'B-return': 78, 'B-fare_amount': 39, 'B-most': 67, 'B-city_name': 18, 'B-m': 60, '<NOTABLE>': 0, 'I-airport_name': 108, 'B-before': 15, 'B-six': 84, 'B-second': 82, 'B-one': 72, 'B-weekdays': 104, 'B-airport_code': 7, 'B-inexpensive': 50, 'B-period_of_day': 76, 'I-flight_stop': 117, 'B-lastest': 55, 'B-number': 71, 'I-meal_code': 120, 'B-meal': 61, 'B-vicinity': 102, 'B-next': 69, 'I-city_name': 109, 'B-arriving': 12, 'B-day_name': 30, 'B-or': 73, 'B-economy': 38, 'B-class_type': 19, 'B-two': 100, 'B-greatest': 49, 'B-meal_code': 62, 'B-not': 70, 'B-economic': 37, 'manufacturer': 137, 'I-time_relative': 127, 'B-round_trip': 79, 'B-restriction_code': 77, 'B-fare_basis_code': 40, 'B-times': 96, 'I-fare_basis_code': 115, 'B-afterwards': 3, 'B-flight': 42, 'B-time_relative': 95, 'B-close': 20, 'B-airline_code': 5, 'B-four': 48, 'B-day_number': 31, 'B-other': 74, 'B-flight_mod': 44, 'B-this': 92, 'I-meal_description': 121, 'B-today_relative': 97, 'I-flight_time': 118, 'B-flight_days': 43, 'B-stop': 88, 'I-integer': 119, 'B-first': 41, 'I-cost_relative': 111, 'I-today_relative': 128, 'B-stops': 90, 'B-least': 58, 'B-am': 9, 'B-less': 59, 'B-around': 11, 'B-state_code': 86, 'B-as': 13, 'fare_basis_code': 135, 'I-transport_type': 129, 'B-country_name': 28, 'B-weekday': 103, 'I-period_of_day': 122, 'day_name': 133, 'B-last': 54, 'I-flight_mod': 116, 'B-by': 17, 'B-near': 68, 'B-connect': 23, 'B-transport_type': 99, 'B-time': 94, 'B-following': 47, 'B-airport_name': 8, 'B-seven': 83, 'I-day_number': 112, 'B-about': 1, 'B-meal_description': 63, 'B-total': 98, 'I-class_type': 110, 'minimum_connect_time': 138, 'B-overnight': 75, 'B-largest': 53, 'B-days_code': 32, 'B-direct': 33, 'B-smallest': 85, 'I-round_trip': 124, 'I-state_name': 125, 'B-supper': 91, 'B-early': 36, 'B-closest': 21, 'I-fare_amount': 114, 'B-airline_name': 6, 'B-day': 29, 'city_name': 131, 'B-back': 14, 'airline_code': 130, 'B-instead': 51, 'B-state_name': 87, 'B-integer': 52, 'I-economy': 113, 'B-year': 106, 'B-aircraft_code': 4, 'B-month_name': 65, 'B-after': 2, 'B-besides': 16, 'B-same': 80, 'B-approximately': 10}, 'words2idx': {'all': 32, 'coach': 110, 'cincinnati': 102, 'month': 318, 'four': 202, 'code': 111, 'go': 213, 'departing': 139, 'thursday': 496, 'to': 502, 'dinnertime': 151, 'under': 529, 'sorry': 450, 'include': 235, 'midwest': 311, 'worth': 564, 'southwest': 451, 'me': 301, 'returning': 408, 'far': 181, 'vegas': 539, 'airfare': 24, 'ticket': 498, 'difference': 148, 'arrange': 54, 'tickets': 499, 'louis': 286, 'cheapest': 99, 'list': 276, 'wednesday': 546, 'leave': 268, 'heading': 222, 'ten': 474, 'direct': 152, 'turboprop': 520, 'rate': 395, 'cost': 121, 'quebec': 392, 'layover': 266, 'choices': 101, 'what': 554, 'stands': 454, 'chicago': 100, 'reaching': 397, 'transcontinental': 510, 'goes': 214, 'new': 332, 'transportation': 512, 'fifteenth': 187, 'hours': 228, 'let': 272, 'twentieth': 523, 'along': 33, 'thrift': 494, 'passengers': 371, 'great': 216, 'thirty': 490, 'canadian': 91, 'leaves': 269, 'alaska': 31, 'leaving': 270, 'amount': 38, 'weekday': 549, 'makes': 294, 'midway': 310, 'montreal': 319, 'via': 541, 'depart': 138, 'county': 124, 'names': 327, 'total': 507, 'seventeenth': 434, 'use': 533, 'twa': 521, 'from': 208, 'would': 565, 'abbreviations': 15, 'destination': 144, 'flights': 194, 'next': 334, 'live': 278, 'going': 215, 'h': 219, 'limousine': 275, 'tell': 473, 'today': 503, 'more': 320, 'about': 16, 'm80': 292, 'downtown': 159, 'train': 509, 'tampa': 471, 'fly': 196, 'noontime': 342, 'f': 179, 'this': 491, 'car': 93, 'anywhere': 44, 'can': 89, 'following': 199, 'making': 295, 'arrive': 58, 'my': 325, 'could': 123, 'give': 212, 'december': 134, 'numbers': 348, 'want': 542, 'DIGITDIGITDIGITDIGITDIGITDIGIT': 12, 'airplane': 27, 'times': 501, 'information': 237, 'seattle': 423, 'provide': 388, 'travel': 513, 'six': 440, 'carries': 95, 'how': 230, 'sunday': 463, 'fourth': 204, 'types': 527, 'beach': 71, 'nonstop': 339, 'economy': 168, 'fare': 182, 'petersburg': 375, 'may': 299, 'earlier': 164, 'plane': 381, 'ff': 185, 'coming': 115, 'eighth': 171, 'fn': 198, 'las': 260, 'a': 13, 'boeing': 74, 'third': 487, 'departure': 141, 'q': 390, 'so': 446, 'sa': 412, 'restriction': 405, 'serving': 433, 'help': 224, 'september': 426, 'over': 370, 'midnight': 309, 'soon': 449, 'logan': 281, 'through': 495, 'milwaukee': 312, 'still': 457, 'before': 72, 'thirtieth': 489, 'but': 83, 'thank': 479, 'fit': 191, 'located': 280, 'denver': 137, 'actually': 18, 'late': 263, 'offers': 355, 'listing': 277, 'texas': 477, 'DIGITDIGITDIGITDIGIT': 11, 'then': 483, 'evening': 174, 'return': 407, 'yn': 568, 'lunch': 290, 'wednesdays': 547, 'they': 486, 'arriving': 60, 'now': 346, 'rental': 399, 'day': 130, 'landings': 259, 'february': 184, 'airports': 30, 'name': 326, 'sundays': 464, 'january': 244, 'detroit': 145, 'each': 163, 'meal': 302, 'dulles': 160, 'thirteenth': 488, 'ea': 162, 'indianapolis': 236, 'used': 534, 'connect': 116, 'okay': 357, 'morning': 321, 'tenth': 476, 'saturday': 416, 'out': 369, 'canada': 90, 'looking': 284, 'arizona': 52, 'cars': 96, 'friday': 206, 'seventh': 435, 'california': 88, 'york': 569, 'bwi': 85, 'ord': 364, 'earliest': 165, 'shortest': 437, 'dc10': 133, 'rentals': 400, 'airport': 29, 'atl': 63, 'florida': 195, 'days': 131, 'round': 410, 'american': 37, 'st.': 452, 'first': 190, 'flying': 197, 'number': 347, 'one': 359, 'eleventh': 173, 'approximately': 48, 'another': 42, 'type': 526, 'tomorrow': 504, '<UNK>': 7, 'city': 104, 'service': 430, 'twenty': 524, 'dfw': 146, 'weekdays': 550, 'least': 267, 'their': 482, 'rates': 396, 'too': 505, 'sixteenth': 442, 'that': 480, 'pittsburgh': 379, 'serve': 427, 'DIGITDIGITDIGIT': 10, 'july': 248, 'than': 478, 'toronto': 506, 'distance': 154, 'kind': 252, 'b': 67, 'second': 424, 'i': 232, 'classes': 106, 'traveling': 514, 'and': 40, 'charlotte': 97, 'san': 415, 'stopovers': 460, 'boston': 77, 'takeoff': 468, 'say': 418, 'mornings': 322, 'rent': 398, 'have': 221, 'need': 331, 'breakfast': 80, 'philly': 377, 'any': 43, 'dallas': 128, 'also': 34, 'costs': 122, 'take': 467, 'which': 557, 'sure': 465, 'price': 386, 'who': 558, 'serviced': 431, 'most': 323, 'eight': 169, 'plan': 380, 'services': 432, 'america': 36, 'class': 105, 'later': 264, 'm': 291, 'nineteenth': 336, 'salt': 413, 'show': 439, 'cheap': 98, 'tuesdays': 519, 'find': 189, 'fifth': 188, 'ground': 217, 'snack': 445, 'memphis': 306, 'explain': 177, 'minnesota': 314, 'should': 438, 'only': 360, 'stand': 453, 'interested': 238, 'carolina': 94, 'do': 156, 'dl': 155, 'get': 211, 'michigan': 308, 'express': 178, 'stop': 458, 'dc': 132, 'international': 239, 'during': 161, 'westchester': 553, 'qw': 393, 'stapleton': 455, 'qx': 394, 'requesting': 402, 'ohio': 356, 'where': 556, 'qo': 391, 'arrival': 56, 'eighteenth': 170, 'maximum': 298, 'connections': 119, 'see': 425, 'are': 50, 'close': 108, 'paul': 372, 'capacity': 92, 'please': 383, 'smallest': 444, 'various': 538, 'between': 73, 'f28': 180, 'available': 66, 'we': 545, 'august': 65, 'nashville': 328, 'aircraft': 23, 'here': 225, 'cities': 103, 'jfk': 246, 'both': 78, 'c': 87, 'last': 261, 'many': 296, 'taking': 470, 'la': 255, 'display': 153, 'april': 49, 's': 411, 'houston': 229, 'baltimore': 69, 'flies': 192, 'co': 109, 'very': 540, 'tuesday': 518, 'nonstops': 340, 'tennessee': 475, 'stopover': 459, 'cp': 125, 'november': 345, 'expensive': 176, 'west': 552, 'airlines': 26, 'nationair': 329, 'much': 324, 'define': 135, 'mco': 300, 'flight': 193, 'eastern': 167, 'airplanes': 28, 'lives': 279, 'prices': 387, 'atlanta': 64, 'general': 209, 'those': 492, 'highest': 227, 'georgia': 210, 'look': 283, 'these': 485, 'originate': 365, 'missouri': 315, 'air': 22, 'will': 559, 'near': 330, 'itinerary': 243, 'stopping': 461, 'mitchell': 316, 'fourteenth': 203, 'thursdays': 497, 'is': 241, 'it': 242, 'arrangements': 55, 'in': 234, 'tacoma': 466, 'if': 233, 'different': 149, 'make': 293, 'connection': 118, 'same': 414, 'northwest': 344, 'ewr': 175, 'twelfth': 522, 'week': 548, 'arrives': 59, 'again': 21, 'takeoffs': 469, 'uses': 535, 'francisco': 205, 'database': 129, 'pennsylvania': 373, 'well': 551, 'options': 362, 'without': 563, 'jersey': 245, 'y': 566, 'the': 481, 'latest': 265, 'taxi': 472, 'just': 250, 'less': 271, 'ninth': 337, 'abbreviation': 14, 'seats': 422, 'love': 287, 'yes': 567, 'jose': 247, 'sixteen': 441, 'lake': 256, 'book': 75, 'ap80': 47, 'fares': 183, 'has': 220, 'march': 297, 'around': 53, 'utah': 537, 'possible': 385, 'early': 166, 'know': 254, 'schedules': 420, 'using': 536, 'd': 126, 'like': 273, 'miami': 307, 'orlando': 367, 'arrivals': 57, 'either': 172, 'night': 335, 'served': 428, 'tower': 508, 'limo': 274, 'seating': 421, 'right': 409, 'saturdays': 417, 'people': 374, 'lastest': 262, 'back': 68, \"'t\": 5, 'serves': 429, 'cleveland': 107, 'kinds': 253, 'transport': 511, 'provided': 389, 'oakland': 351, 'monday': 317, 'for': 200, 'noon': 341, 'stops': 462, 'newark': 333, 'does': 157, 'connecting': 117, 'three': 493, 'booking': 76, 'be': 70, 'columbus': 114, 'business': 82, 'schedule': 419, 'sixth': 443, 'departures': 142, 'ap57': 46, 'by': 86, 'after': 19, 'on': 358, 'DIGIT': 8, 'sfo': 436, 'DIGITDIGIT': 9, 'of': 353, 'dollars': 158, 'burbank': 81, 'angeles': 41, 'dinner': 150, 'afternoon': 20, 'mean': 304, 'or': 363, 'colorado': 113, 'united': 530, 'into': 240, 'within': 562, 'washington': 543, 'bound': 79, 'two': 525, 'your': 571, 'guardia': 218, 'ontario': 361, 'area': 51, 'there': 484, 'philadelphia': 376, 'long': 282, 'continental': 120, 'los': 285, 'airline': 25, '72s': 6, 'way': 544, 'lowest': 288, 'buy': 84, 'north': 343, 'offer': 354, 'some': 447, 'hp': 231, 'restrictions': 406, 'landing': 258, 'hi': 226, 'delta': 136, 'trying': 517, 'with': 561, 'fort': 201, 'october': 352, 'wish': 560, 'up': 531, 'us': 532, \"'re\": 3, 'planes': 382, 'pm': 384, 'ua': 528, 'trips': 516, 'originating': 366, 'ac': 17, 'reservations': 404, 'describe': 143, 'am': 35, 'minneapolis': 313, 'an': 39, 'ap': 45, 'as': 61, 'sometime': 448, 'at': 62, 'trip': 515, 'diego': 147, 'codes': 112, \"'ll\": 1, 'no': 338, 'when': 555, 'field': 186, 'other': 368, 'you': 570, 'nw': 349, 'repeat': 401, \"'s\": 4, 'phoenix': 378, \"o'clock\": 350, 'kansas': 251, 'june': 249, 'lufthansa': 289, 'meaning': 305, \"'d\": 0, 'reservation': 403, \"'m\": 2, 'friends': 207, 'meals': 303, 'land': 257, 'daily': 127, 'departs': 140, 'time': 500, 'starting': 456, 'hello': 223}}\n"
     ]
    }
   ],
   "source": [
    "print len(dicts['words2idx'])\n",
    "print len(dicts['labels2idx'])\n",
    "\n",
    "PREFIX = os.getenv('ATISDATA',os.path.join(os.path.split(os.path.abspath(os.path.dirname('__file__')))[0],'data'))\n",
    "\n",
    "fold = 1\n",
    "\n",
    "filename = os.path.join(PREFIX, 'atis.fold'+str(fold)+'.pkl.gz')\n",
    "f = gzip.open(filename, 'rb')\n",
    "try:\n",
    "    train = pickle.load(f, encoding='latin1')\n",
    "except:\n",
    "    train = pickle.load(f)\n",
    "\n",
    "train = train[3]\n",
    "print train"
   ]
  },
  {
   "cell_type": "code",
   "execution_count": 15,
   "metadata": {
    "collapsed": false
   },
   "outputs": [
    {
     "name": "stdout",
     "output_type": "stream",
     "text": [
      "(3, 3983)\n",
      "(3, 995)\n",
      "(3, 893)\n",
      "['O', 'O', 'O', 'O', 'O', 'B-airline_name', 'O', 'B-flight_number', 'O', 'B-fromloc.city_name', 'I-fromloc.city_name', 'O', 'B-toloc.city_name', 'I-toloc.city_name', 'I-toloc.city_name']\n",
      "['what', 'aircraft', 'is', 'used', 'on', 'delta', 'flight', 'DIGITDIGITDIGITDIGIT', 'from', 'kansas', 'city', 'to', 'salt', 'lake', 'city']\n",
      "[554  23 241 534 358 136 193  11 208 251 104 502 413 256 104]\n",
      "[554  23 241 534 358 136 193  11 208 251 104 502 413 256 104]\n"
     ]
    }
   ],
   "source": [
    "print np.shape(train_set)\n",
    "print np.shape(valid_set)\n",
    "print np.shape(test_set)\n",
    "\n",
    "#print train_set\n",
    "\n",
    "#dictionary of the pickle\n",
    "'''\n",
    "print len(dicts)\n",
    "for name in dicts:\n",
    "    print name\n",
    "    print dicts[name]\n",
    "\n",
    "\n",
    "#Structure of the sets = 3 array of arrays\n",
    "\n",
    "for i in valid_set:\n",
    "    print len(i[0])\n",
    "\n",
    "for i in test_set:\n",
    "    print (i[0])\n",
    "'''\n",
    "idx2label = dict((k, v) for v, k in dicts['labels2idx'].items())\n",
    "\n",
    "idx2word = dict((k, v) for v, k in dicts['words2idx'].items())\n",
    "\n",
    "train_lex, train_ne, train_y = train_set\n",
    "\n",
    "valid_lex, valid_ne, valid_y = valid_set\n",
    "\n",
    "test_lex, test_ne, test_y = test_set\n",
    "\n",
    "vocsize = len(dicts['words2idx'])\n",
    "nclasses = len(dicts['labels2idx'])\n",
    "nsentences = len(train_lex)\n",
    "\n",
    "groundtruth_valid = [map(lambda x: idx2label[x], y) for y in valid_y]\n",
    "print groundtruth_valid[0]\n",
    "words_valid = [map(lambda x: idx2word[x], w) for w in valid_lex]\n",
    "print words_valid[0]\n",
    "\n",
    "print valid_lex[0]\n",
    "x = np.asarray([554,  23, 241, 534, 358, 136, 193,  11, 208, 251, 104, 502, 413, 256, 104]).astype('int32')\n",
    "print x"
   ]
  },
  {
   "cell_type": "code",
   "execution_count": null,
   "metadata": {
    "collapsed": true
   },
   "outputs": [],
   "source": []
  }
 ],
 "metadata": {
  "kernelspec": {
   "display_name": "Python 2",
   "language": "python",
   "name": "python2"
  },
  "language_info": {
   "codemirror_mode": {
    "name": "ipython",
    "version": 2
   },
   "file_extension": ".py",
   "mimetype": "text/x-python",
   "name": "python",
   "nbconvert_exporter": "python",
   "pygments_lexer": "ipython2",
   "version": "2.7.6"
  }
 },
 "nbformat": 4,
 "nbformat_minor": 0
}
