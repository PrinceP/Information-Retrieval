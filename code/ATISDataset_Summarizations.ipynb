{
 "cells": [
  {
   "cell_type": "code",
   "execution_count": 1,
   "metadata": {
    "collapsed": false
   },
   "outputs": [],
   "source": [
    "import os\n",
    "import six.moves.cPickle as pickle\n",
    "import gzip\n",
    "import numpy as np\n",
    "\n",
    "PREFIX = os.getenv('ATISDATA',os.path.join(os.path.split(os.path.abspath(os.path.dirname('__file__')))[0],'data'))\n",
    "\n",
    "fold = 0\n",
    "\n",
    "filename = os.path.join(PREFIX, 'atis.fold'+str(fold)+'.pkl.gz')\n",
    "f = gzip.open(filename, 'rb')\n",
    "try:\n",
    "    train_set, valid_set, test_set, dicts = pickle.load(f, encoding='latin1')\n",
    "except:\n",
    "    train_set, valid_set, test_set, dicts = pickle.load(f)\n",
    "    \n",
    "\n",
    "\n",
    "def contextwin(l, win):\n",
    "    '''\n",
    "    win :: int corresponding to the size of the window\n",
    "    given a list of indexes composing a sentence\n",
    "\n",
    "    l :: array containing the word indexes\n",
    "\n",
    "    it will return a list of list of indexes corresponding\n",
    "    to context windows surrounding each word in the sentence\n",
    "    '''\n",
    "    assert (win % 2) == 1\n",
    "    assert win >= 1\n",
    "    l = list(l)\n",
    "\n",
    "    lpadded = win // 2 * [-1] + l + win // 2 * [-1]\n",
    "    out = [lpadded[i:(i + win)] for i in range(len(l))]\n",
    "\n",
    "    assert len(out) == len(l)\n",
    "    return out\n",
    "\n",
    "\n",
    "'''for i in train_set:\n",
    "    print len(i[0])\n",
    "\n",
    "for arrayindex in range(0,len(test_set[0][0])):\n",
    "    try:\n",
    "        print dicts['words2idx'].keys()[dicts['words2idx'].values().index(test_set[0][0][arrayindex])] ,\n",
    "    except ValueError:\n",
    "        print \"-\",\n",
    "print \" \"\n",
    "\n",
    "for arrayindex in range(0,len(test_set[0][0])):\n",
    "    try:\n",
    "        print dicts['tables2idx'].keys()[dicts['tables2idx'].values().index(test_set[1][0][arrayindex])] ,\n",
    "    except ValueError:\n",
    "        print \"-\",\n",
    "\n",
    "print \" \"\n",
    "\n",
    "for arrayindex in range(0,len(test_set[2][0])):\n",
    "    try:\n",
    "        print dicts['labels2idx'].keys()[dicts['labels2idx'].values().index(test_set[2][0][arrayindex])] ,\n",
    "    except ValueError:\n",
    "        print \"-\",'''"
   ]
  },
  {
   "cell_type": "code",
   "execution_count": 15,
   "metadata": {
    "collapsed": false
   },
   "outputs": [
    {
     "name": "stdout",
     "output_type": "stream",
     "text": [
      "(3, 3983)\n",
      "(3, 995)\n",
      "(3, 893)\n",
      "['O', 'O', 'O', 'O', 'O', 'B-airline_name', 'O', 'B-flight_number', 'O', 'B-fromloc.city_name', 'I-fromloc.city_name', 'O', 'B-toloc.city_name', 'I-toloc.city_name', 'I-toloc.city_name']\n",
      "['what', 'aircraft', 'is', 'used', 'on', 'delta', 'flight', 'DIGITDIGITDIGITDIGIT', 'from', 'kansas', 'city', 'to', 'salt', 'lake', 'city']\n",
      "[554  23 241 534 358 136 193  11 208 251 104 502 413 256 104]\n",
      "[554  23 241 534 358 136 193  11 208 251 104 502 413 256 104]\n"
     ]
    }
   ],
   "source": [
    "print np.shape(train_set)\n",
    "print np.shape(valid_set)\n",
    "print np.shape(test_set)\n",
    "\n",
    "#print train_set\n",
    "\n",
    "#dictionary of the pickle\n",
    "'''\n",
    "print len(dicts)\n",
    "for name in dicts:\n",
    "    print name\n",
    "    print dicts[name]\n",
    "\n",
    "\n",
    "#Structure of the sets = 3 array of arrays\n",
    "\n",
    "for i in valid_set:\n",
    "    print len(i[0])\n",
    "\n",
    "for i in test_set:\n",
    "    print (i[0])\n",
    "'''\n",
    "idx2label = dict((k, v) for v, k in dicts['labels2idx'].items())\n",
    "\n",
    "idx2word = dict((k, v) for v, k in dicts['words2idx'].items())\n",
    "\n",
    "train_lex, train_ne, train_y = train_set\n",
    "\n",
    "valid_lex, valid_ne, valid_y = valid_set\n",
    "\n",
    "test_lex, test_ne, test_y = test_set\n",
    "\n",
    "vocsize = len(dicts['words2idx'])\n",
    "nclasses = len(dicts['labels2idx'])\n",
    "nsentences = len(train_lex)\n",
    "\n",
    "groundtruth_valid = [map(lambda x: idx2label[x], y) for y in valid_y]\n",
    "print groundtruth_valid[0]\n",
    "words_valid = [map(lambda x: idx2word[x], w) for w in valid_lex]\n",
    "print words_valid[0]\n",
    "\n",
    "print valid_lex[0]\n",
    "x = np.asarray([554,  23, 241, 534, 358, 136, 193,  11, 208, 251, 104, 502, 413, 256, 104]).astype('int32')\n",
    "print x"
   ]
  },
  {
   "cell_type": "code",
   "execution_count": null,
   "metadata": {
    "collapsed": true
   },
   "outputs": [],
   "source": []
  }
 ],
 "metadata": {
  "kernelspec": {
   "display_name": "Python 2",
   "language": "python",
   "name": "python2"
  },
  "language_info": {
   "codemirror_mode": {
    "name": "ipython",
    "version": 2
   },
   "file_extension": ".py",
   "mimetype": "text/x-python",
   "name": "python",
   "nbconvert_exporter": "python",
   "pygments_lexer": "ipython2",
   "version": "2.7.6"
  }
 },
 "nbformat": 4,
 "nbformat_minor": 0
}
