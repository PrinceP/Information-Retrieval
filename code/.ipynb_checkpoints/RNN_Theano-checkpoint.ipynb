{
 "cells": [
  {
   "cell_type": "code",
   "execution_count": 2,
   "metadata": {
    "collapsed": true
   },
   "outputs": [],
   "source": [
    "from __future__ import print_function\n",
    "import six.moves.cPickle as pickle\n",
    "\n",
    "from collections import OrderedDict\n",
    "import copy\n",
    "import gzip\n",
    "import os\n",
    "import urllib\n",
    "import random\n",
    "import stat\n",
    "import subprocess\n",
    "import sys\n",
    "import timeit\n",
    "\n",
    "import numpy\n",
    "\n",
    "import theano\n",
    "from theano import tensor as T\n",
    "\n",
    "# Otherwise the deepcopy fails\n",
    "import sys\n",
    "sys.setrecursionlimit(1500)"
   ]
  },
  {
   "cell_type": "code",
   "execution_count": 28,
   "metadata": {
    "collapsed": true
   },
   "outputs": [],
   "source": [
    "PREFIX = os.getenv('ATISDATA',os.path.join(os.path.split(os.path.abspath(os.path.dirname('__file__')))[0],'data'))"
   ]
  },
  {
   "cell_type": "code",
   "execution_count": 29,
   "metadata": {
    "collapsed": false
   },
   "outputs": [],
   "source": [
    "# utils functions\n",
    "def shuffle(lol, seed):\n",
    "    '''\n",
    "    lol :: list of list as input\n",
    "    seed :: seed the shuffling\n",
    "\n",
    "    shuffle inplace each list in the same order\n",
    "    '''\n",
    "    for l in lol:\n",
    "        random.seed(seed)\n",
    "        random.shuffle(l)\n"
   ]
  },
  {
   "cell_type": "code",
   "execution_count": 30,
   "metadata": {
    "collapsed": false
   },
   "outputs": [],
   "source": [
    "# start-snippet-1\n",
    "def contextwin(l, win):\n",
    "    '''\n",
    "    win :: int corresponding to the size of the window\n",
    "    given a list of indexes composing a sentence\n",
    "\n",
    "    l :: array containing the word indexes\n",
    "\n",
    "    it will return a list of list of indexes corresponding\n",
    "    to context windows surrounding each word in the sentence\n",
    "    '''\n",
    "    assert (win % 2) == 1\n",
    "    assert win >= 1\n",
    "    l = list(l)\n",
    "\n",
    "    lpadded = win // 2 * [-1] + l + win // 2 * [-1]\n",
    "    out = [lpadded[i:(i + win)] for i in range(len(l))]\n",
    "\n",
    "    assert len(out) == len(l)\n",
    "    return out\n",
    "# end-snippet-1\n"
   ]
  },
  {
   "cell_type": "code",
   "execution_count": 32,
   "metadata": {
    "collapsed": true
   },
   "outputs": [],
   "source": [
    "\n",
    "# data loading functions\n",
    "def atisfold(fold):\n",
    "    assert fold in range(5)\n",
    "    filename = os.path.join(PREFIX, 'atis.fold'+str(fold)+'.pkl.gz')\n",
    "    f = gzip.open(filename, 'rb')\n",
    "    try:\n",
    "        train_set, valid_set, test_set, dicts = pickle.load(f, encoding='latin1')\n",
    "    except:\n",
    "        train_set, valid_set, test_set, dicts = pickle.load(f)\n",
    "    return train_set, valid_set, test_set, dicts"
   ]
  },
  {
   "cell_type": "code",
   "execution_count": 33,
   "metadata": {
    "collapsed": true
   },
   "outputs": [],
   "source": [
    "# metrics function using conlleval.pl\n",
    "def conlleval(p, g, w, filename, script_path):\n",
    "    '''\n",
    "    INPUT:\n",
    "    p :: predictions\n",
    "    g :: groundtruth\n",
    "    w :: corresponding words\n",
    "\n",
    "    OUTPUT:\n",
    "    filename :: name of the file where the predictions\n",
    "    are written. it will be the input of conlleval.pl script\n",
    "    for computing the performance in terms of precision\n",
    "    recall and f1 score\n",
    "\n",
    "    OTHER:\n",
    "    script_path :: path to the directory containing the\n",
    "    conlleval.pl script\n",
    "    '''\n",
    "    out = ''\n",
    "    for sl, sp, sw in zip(g, p, w):\n",
    "        out += 'BOS O O\\n'\n",
    "        for wl, wp, w in zip(sl, sp, sw):\n",
    "            out += w + ' ' + wl + ' ' + wp + '\\n'\n",
    "        out += 'EOS O O\\n\\n'\n",
    "\n",
    "    f = open(filename, 'w')\n",
    "    f.writelines(out)\n",
    "    f.close()\n",
    "\n",
    "    return get_perf(filename, script_path)"
   ]
  },
  {
   "cell_type": "code",
   "execution_count": 34,
   "metadata": {
    "collapsed": true
   },
   "outputs": [],
   "source": [
    "def download(origin, destination):\n",
    "    '''\n",
    "    download the corresponding atis file\n",
    "    from http://www-etud.iro.umontreal.ca/~mesnilgr/atis/\n",
    "    '''\n",
    "    print('Downloading data from %s' % origin)\n",
    "    urllib.urlretrieve(origin, destination)"
   ]
  },
  {
   "cell_type": "code",
   "execution_count": 35,
   "metadata": {
    "collapsed": true
   },
   "outputs": [],
   "source": [
    "\n",
    "def get_perf(filename, folder):\n",
    "    ''' run conlleval.pl perl script to obtain\n",
    "    precision/recall and F1 score '''\n",
    "    _conlleval = os.path.join(folder, 'conlleval.pl')\n",
    "    if not os.path.isfile(_conlleval):\n",
    "        url = 'http://www-etud.iro.umontreal.ca/~mesnilgr/atis/conlleval.pl'\n",
    "        download(url, _conlleval)\n",
    "        os.chmod(_conlleval, stat.S_IRWXU)  # give the execute permissions\n",
    "\n",
    "    proc = subprocess.Popen([\"perl\",\n",
    "                            _conlleval],\n",
    "                            stdin=subprocess.PIPE,\n",
    "                            stdout=subprocess.PIPE)\n",
    "\n",
    "    stdout, _ = proc.communicate(''.join(open(filename).readlines()).encode('utf-8'))\n",
    "    stdout = stdout.decode('utf-8')\n",
    "    out = None\n",
    "\n",
    "    for line in stdout.split('\\n'):\n",
    "        if 'accuracy' in line:\n",
    "            out = line.split()\n",
    "            break\n",
    "    # To help debug\n",
    "    if out is None:\n",
    "        print(stdout.split('\\n'))\n",
    "    precision = float(out[6][:-2])\n",
    "    recall = float(out[8][:-2])\n",
    "    f1score = float(out[10])\n",
    "\n",
    "    return {'p': precision, 'r': recall, 'f1': f1score}"
   ]
  },
  {
   "cell_type": "code",
   "execution_count": null,
   "metadata": {
    "collapsed": true
   },
   "outputs": [],
   "source": []
  }
 ],
 "metadata": {
  "kernelspec": {
   "display_name": "Python 2",
   "language": "python",
   "name": "python2"
  },
  "language_info": {
   "codemirror_mode": {
    "name": "ipython",
    "version": 2
   },
   "file_extension": ".py",
   "mimetype": "text/x-python",
   "name": "python",
   "nbconvert_exporter": "python",
   "pygments_lexer": "ipython2",
   "version": "2.7.6"
  }
 },
 "nbformat": 4,
 "nbformat_minor": 0
}
